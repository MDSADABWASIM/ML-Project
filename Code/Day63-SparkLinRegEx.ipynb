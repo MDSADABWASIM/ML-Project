{
 "nbformat": 4,
 "nbformat_minor": 2,
 "metadata": {
  "language_info": {
   "name": "python",
   "codemirror_mode": {
    "name": "ipython",
    "version": 3
   },
   "version": "3.7.6-final"
  },
  "orig_nbformat": 2,
  "file_extension": ".py",
  "mimetype": "text/x-python",
  "name": "python",
  "npconvert_exporter": "python",
  "pygments_lexer": "ipython3",
  "version": 3,
  "kernelspec": {
   "name": "python37464bitbaseconda0633cb87348e4e1f83d9c32f4c55bf11",
   "display_name": "Python 3.7.4 64-bit ('base': conda)"
  }
 },
 "cells": [
  {
   "cell_type": "markdown",
   "metadata": {},
   "source": [
    "## Linear regression in Spark"
   ]
  },
  {
   "cell_type": "code",
   "execution_count": 1,
   "metadata": {},
   "outputs": [],
   "source": [
    "from pyspark.sql import SparkSession"
   ]
  },
  {
   "cell_type": "code",
   "execution_count": 8,
   "metadata": {},
   "outputs": [],
   "source": [
    "spark = SparkSession.builder.appName('linrex').getOrCreate()"
   ]
  },
  {
   "cell_type": "code",
   "execution_count": 9,
   "metadata": {},
   "outputs": [],
   "source": [
    "from pyspark.ml.regression import LinearRegression"
   ]
  },
  {
   "cell_type": "code",
   "execution_count": 12,
   "metadata": {},
   "outputs": [],
   "source": [
    "all_data = spark.read.format('libsvm').load('../datasets/sample_lin_reg_data.txt')"
   ]
  },
  {
   "cell_type": "code",
   "execution_count": 18,
   "metadata": {},
   "outputs": [],
   "source": [
    "# Train Test Split\n",
    "train_data, test_data = all_data.randomSplit([0.7,0.3])"
   ]
  },
  {
   "cell_type": "code",
   "execution_count": 19,
   "metadata": {},
   "outputs": [
    {
     "name": "stdout",
     "output_type": "stream",
     "text": "+-------+-------------------+\n|summary|              label|\n+-------+-------------------+\n|  count|                363|\n|   mean|0.44476775326060647|\n| stddev| 10.407621414347464|\n|    min|-28.571478869743427|\n|    max| 27.111027963108548|\n+-------+-------------------+\n\n"
    }
   ],
   "source": [
    "train_data.describe().show()"
   ]
  },
  {
   "cell_type": "code",
   "execution_count": 20,
   "metadata": {},
   "outputs": [
    {
     "name": "stdout",
     "output_type": "stream",
     "text": "+-------+--------------------+\n|summary|               label|\n+-------+--------------------+\n|  count|                 138|\n|   mean|-0.23731445299934523|\n| stddev|  10.098608765703869|\n|    min| -28.046018037776633|\n|    max|   27.78383192005107|\n+-------+--------------------+\n\n"
    }
   ],
   "source": [
    "test_data.describe().show()"
   ]
  },
  {
   "cell_type": "code",
   "execution_count": 16,
   "metadata": {},
   "outputs": [],
   "source": [
    "#Linear regression\n",
    "lr = LinearRegression(featuresCol='features',labelCol='label',predictionCol='prediction')"
   ]
  },
  {
   "cell_type": "code",
   "execution_count": 17,
   "metadata": {},
   "outputs": [],
   "source": [
    "model = lr.fit(train_data)"
   ]
  },
  {
   "cell_type": "code",
   "execution_count": 21,
   "metadata": {},
   "outputs": [],
   "source": [
    "model_result =  model.evaluate(test_data)"
   ]
  },
  {
   "cell_type": "code",
   "execution_count": 24,
   "metadata": {},
   "outputs": [
    {
     "data": {
      "text/plain": "10.203530174925838"
     },
     "execution_count": 24,
     "metadata": {},
     "output_type": "execute_result"
    }
   ],
   "source": [
    "model_result.rootMeanSquaredError"
   ]
  },
  {
   "cell_type": "code",
   "execution_count": 25,
   "metadata": {},
   "outputs": [],
   "source": [
    "unlabeled_data = test_data.select('features')"
   ]
  },
  {
   "cell_type": "code",
   "execution_count": 26,
   "metadata": {},
   "outputs": [
    {
     "name": "stdout",
     "output_type": "stream",
     "text": "+--------------------+\n|            features|\n+--------------------+\n|(10,[0,1,2,3,4,5,...|\n|(10,[0,1,2,3,4,5,...|\n|(10,[0,1,2,3,4,5,...|\n|(10,[0,1,2,3,4,5,...|\n|(10,[0,1,2,3,4,5,...|\n|(10,[0,1,2,3,4,5,...|\n|(10,[0,1,2,3,4,5,...|\n|(10,[0,1,2,3,4,5,...|\n|(10,[0,1,2,3,4,5,...|\n|(10,[0,1,2,3,4,5,...|\n|(10,[0,1,2,3,4,5,...|\n|(10,[0,1,2,3,4,5,...|\n|(10,[0,1,2,3,4,5,...|\n|(10,[0,1,2,3,4,5,...|\n|(10,[0,1,2,3,4,5,...|\n|(10,[0,1,2,3,4,5,...|\n|(10,[0,1,2,3,4,5,...|\n|(10,[0,1,2,3,4,5,...|\n|(10,[0,1,2,3,4,5,...|\n|(10,[0,1,2,3,4,5,...|\n+--------------------+\nonly showing top 20 rows\n\n"
    }
   ],
   "source": [
    "unlabeled_data.show()"
   ]
  },
  {
   "cell_type": "code",
   "execution_count": 27,
   "metadata": {},
   "outputs": [],
   "source": [
    "predictions = model.transform(unlabeled_data)"
   ]
  },
  {
   "cell_type": "code",
   "execution_count": 28,
   "metadata": {},
   "outputs": [
    {
     "name": "stdout",
     "output_type": "stream",
     "text": "+--------------------+--------------------+\n|            features|          prediction|\n+--------------------+--------------------+\n|(10,[0,1,2,3,4,5,...| -1.6151302330745434|\n|(10,[0,1,2,3,4,5,...|-0.39734697369053706|\n|(10,[0,1,2,3,4,5,...|  -3.957656161786463|\n|(10,[0,1,2,3,4,5,...| 0.22098137317181113|\n|(10,[0,1,2,3,4,5,...|-0.24402430806440376|\n|(10,[0,1,2,3,4,5,...|  0.6086103277991831|\n|(10,[0,1,2,3,4,5,...|  3.2708780391351873|\n|(10,[0,1,2,3,4,5,...| -1.4249197217511604|\n|(10,[0,1,2,3,4,5,...| -2.0688109541739923|\n|(10,[0,1,2,3,4,5,...|   3.134633174865831|\n|(10,[0,1,2,3,4,5,...| -0.9267013637097196|\n|(10,[0,1,2,3,4,5,...|  0.3812103849125552|\n|(10,[0,1,2,3,4,5,...| -1.8501975223359817|\n|(10,[0,1,2,3,4,5,...|   2.301631854303685|\n|(10,[0,1,2,3,4,5,...|   3.220564518143553|\n|(10,[0,1,2,3,4,5,...|   -1.66805026817473|\n|(10,[0,1,2,3,4,5,...| -3.4834820224630176|\n|(10,[0,1,2,3,4,5,...| -1.1576180561131735|\n|(10,[0,1,2,3,4,5,...|   2.827183851888351|\n|(10,[0,1,2,3,4,5,...|   2.040428661293447|\n+--------------------+--------------------+\nonly showing top 20 rows\n\n"
    }
   ],
   "source": [
    "predictions.show()"
   ]
  },
  {
   "cell_type": "code",
   "execution_count": null,
   "metadata": {},
   "outputs": [],
   "source": []
  }
 ]
}