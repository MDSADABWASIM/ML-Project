{
 "cells": [
  {
   "cell_type": "markdown",
   "metadata": {},
   "source": [
    "# Hello World\n",
    "\n",
    "Overview:\n",
    "* Creates an experiment `hello_world` if it does not exist.\n",
    "* Logs parameters, metrics and tags.\n",
    "* Batch loggging of parameters, metrics and tags.\n",
    "* No ML training.\n",
    "* Optionally writes an artifact."
   ]
  },
  {
   "cell_type": "code",
   "execution_count": 1,
   "metadata": {},
   "outputs": [],
   "source": [
    "import mlflow\n",
    "from mlflow.entities import Param,Metric,RunTag"
   ]
  },
  {
   "cell_type": "code",
   "execution_count": 2,
   "metadata": {},
   "outputs": [
    {
     "output_type": "stream",
     "name": "stdout",
     "text": "MLflow Version: 1.7.1\nTracking URI: http://localhost:5000\n"
    }
   ],
   "source": [
    "print(\"MLflow Version:\", mlflow.version.VERSION)\n",
    "mlflow.set_tracking_uri(\"http://localhost:5000\")\n",
    "print(\"Tracking URI:\", mlflow.tracking.get_tracking_uri())"
   ]
  },
  {
   "cell_type": "code",
   "execution_count": 3,
   "metadata": {},
   "outputs": [
    {
     "output_type": "stream",
     "name": "stdout",
     "text": "experiment_name: hello_world\nINFO: 'hello_world' does not exist. Creating a new experiment\nexperiment_id: 1\n"
    },
    {
     "output_type": "execute_result",
     "data": {
      "text/plain": "'2020-03-23 04:50:41'"
     },
     "metadata": {},
     "execution_count": 3
    }
   ],
   "source": [
    "experiment_name = \"hello_world\"\n",
    "print(\"experiment_name:\",experiment_name)\n",
    "mlflow.set_experiment(experiment_name)\n",
    "\n",
    "client = mlflow.tracking.MlflowClient()\n",
    "experiment_id = client.get_experiment_by_name(experiment_name).experiment_id\n",
    "print(\"experiment_id:\",experiment_id)\n",
    "\n",
    "import time\n",
    "now = round(time.time())\n",
    "time.strftime(\"%Y-%m-%d %H:%M:%S\", time.gmtime(now))"
   ]
  },
  {
   "cell_type": "code",
   "execution_count": 4,
   "metadata": {},
   "outputs": [],
   "source": [
    "def run(alpha, run_origin):\n",
    "    with mlflow.start_run(run_name=run_origin) as run:\n",
    "        print(\"runId:\",run.info.run_uuid)\n",
    "        print(\"artifact_uri:\",mlflow.get_artifact_uri())\n",
    "        print(\"alpha:\",alpha)\n",
    "        print(\"run_origin:\",run_origin)\n",
    "        mlflow.log_param(\"alpha\", alpha)\n",
    "        mlflow.log_metric(\"rmse\", 0.789)\n",
    "        mlflow.set_tag(\"run_origin\", run_origin)\n",
    "        with open(\"info.txt\", \"w\") as f:\n",
    "            f.write(\"Hi artifact\")\n",
    "        mlflow.log_artifact(\"info.txt\")\n",
    "        params = [ Param(\"p1\",\"0.1\"), Param(\"p2\",\"0.2\") ]\n",
    "        metrics = [ Metric(\"m1\",0.1,now,0), Metric(\"m2\",0.2,now,0) ]\n",
    "        tags = [ RunTag(\"t1\",\"hi1\"), RunTag(\"t2\",\"hi2\") ]\n",
    "        client.log_batch(run.info.run_uuid, metrics, params, tags)"
   ]
  },
  {
   "cell_type": "code",
   "execution_count": 5,
   "metadata": {},
   "outputs": [
    {
     "output_type": "stream",
     "name": "stderr",
     "text": "/usr/local/Cellar/apache-spark/2.4.5_1/libexec/python/lib/py4j-0.10.7-src.zip/py4j/java_gateway.py:2020: DeprecationWarning: invalid escape sequence \\*\n/usr/local/Cellar/apache-spark/2.4.5_1/libexec/python/lib/py4j-0.10.7-src.zip/py4j/java_gateway.py:2020: DeprecationWarning: invalid escape sequence \\*\n/usr/local/Cellar/apache-spark/2.4.5_1/libexec/python/lib/py4j-0.10.7-src.zip/py4j/java_collections.py:13: DeprecationWarning: Using or importing the ABCs from 'collections' instead of from 'collections.abc' is deprecated since Python 3.3,and in 3.9 it will stop working\n/usr/local/Cellar/apache-spark/2.4.5_1/libexec/python/pyspark/resultiterable.py:23: DeprecationWarning: Using or importing the ABCs from 'collections' instead of from 'collections.abc' is deprecated since Python 3.3,and in 3.9 it will stop working\n  class ResultIterable(collections.Iterable):\nrunId: 402cc5bd0c2c486787c216db09e0f9eb\nartifact_uri: ./mlruns/1/402cc5bd0c2c486787c216db09e0f9eb/artifacts\nalpha: 0.1\nrun_origin: jupyter\n"
    }
   ],
   "source": [
    "run(\"0.1\", \"jupyter\")"
   ]
  },
  {
   "cell_type": "code",
   "execution_count": null,
   "metadata": {},
   "outputs": [],
   "source": []
  }
 ],
 "metadata": {
  "kernelspec": {
   "display_name": "Python 3.7.5 64-bit",
   "language": "python",
   "name": "python37564bitedcdccb018dd4367a14589b436323787"
  },
  "language_info": {
   "codemirror_mode": {
    "name": "ipython",
    "version": 3
   },
   "file_extension": ".py",
   "mimetype": "text/x-python",
   "name": "python",
   "nbconvert_exporter": "python",
   "pygments_lexer": "ipython3",
   "version": "3.7.6-final"
  }
 },
 "nbformat": 4,
 "nbformat_minor": 2
}