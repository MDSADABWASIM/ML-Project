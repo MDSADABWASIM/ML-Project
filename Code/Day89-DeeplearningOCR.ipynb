{
 "nbformat": 4,
 "nbformat_minor": 2,
 "metadata": {
  "language_info": {
   "name": "python",
   "codemirror_mode": {
    "name": "ipython",
    "version": 3
   },
   "version": "3.7.6-final"
  },
  "orig_nbformat": 2,
  "file_extension": ".py",
  "mimetype": "text/x-python",
  "name": "python",
  "npconvert_exporter": "python",
  "pygments_lexer": "ipython3",
  "version": 3,
  "kernelspec": {
   "name": "python37564bitedcdccb018dd4367a14589b436323787",
   "display_name": "Python 3.7.5 64-bit"
  }
 },
 "cells": [
  {
   "cell_type": "code",
   "execution_count": 1,
   "metadata": {},
   "outputs": [],
   "source": [
    "##Loading the necessary packages \n",
    "import numpy as np\n",
    "import cv2\n",
    "from imutils.object_detection import non_max_suppression\n",
    "import pytesseract\n",
    "from matplotlib import pyplot as plt\n",
    "import os\n",
    "from PIL import Image"
   ]
  },
  {
   "cell_type": "markdown",
   "metadata": {},
   "source": [
    "*You can download and use the EAST model from here https://github.com/ZER-0-NE/EAST-Detector-for-text-detection-using-OpenCV*"
   ]
  },
  {
   "cell_type": "code",
   "execution_count": 2,
   "metadata": {},
   "outputs": [],
   "source": [
    "'''This class takes an image path as input, performs preprocessing, identifies the\n",
    "grid, crops the grid, corrects perspective, writes all these stages to StagesImages folder'''\n",
    "\n",
    "class ImagePreprocessor:\n",
    "\n",
    "    '''Initializes the Class'''\n",
    "    def __init__(self, imagepath):\n",
    "        self.image = cv2.imread(imagepath, 0)\n",
    "        self.imagePath = imagepath\n",
    "        self.originalimage = np.copy(self.image)\n",
    "        self.extractedgrid = None\n",
    "\n",
    "    '''This function blurs the image, applies thresholding, inverts it and dilates the image'''\n",
    "    def preprocess_image(self):\n",
    "        gray = self.image\n",
    "        #Applying Gaussian Blur to smooth out the noise\n",
    "        gray = cv2.GaussianBlur(gray, (11, 11), 0)\n",
    "        try:\n",
    "            os.remove(\"../StagesImages/1.png\")\n",
    "        except:\n",
    "            pass\n",
    "        cv2.imwrite(\"../StagesImages/1.png\", gray)\n",
    "\n",
    "        # Applying thresholding using adaptive Gaussian|Mean thresholding\n",
    "        gray = cv2.adaptiveThreshold(gray, 255, cv2.ADAPTIVE_THRESH_MEAN_C | cv2.ADAPTIVE_THRESH_GAUSSIAN_C,                     cv2.THRESH_BINARY, 5, 2)\n",
    "        try:\n",
    "            os.remove(\"../StagesImages/2.png\")\n",
    "        except:\n",
    "            pass\n",
    "        cv2.imwrite(\"../StagesImages/2.png\", gray)\n",
    "\n",
    "        #Inverting the image\n",
    "        gray = cv2.bitwise_not(gray)\n",
    "        try:\n",
    "            os.remove(\"../StagesImages/3.png\")\n",
    "        except:\n",
    "            pass\n",
    "        cv2.imwrite(\"../StagesImages/3.png\", gray)\n",
    "\n",
    "        #Dilating the image to fill up the \"cracks\" in lines\n",
    "        kernel = np.array([[0, 1, 0], [1, 1, 1], [0, 1, 0]], np.uint8)\n",
    "        gray = cv2.dilate(gray, kernel)\n",
    "        self.image = gray\n",
    "        try:\n",
    "            os.remove(\"../StagesImages/4.png\")\n",
    "        except:\n",
    "            pass\n",
    "        cv2.imwrite(\"../StagesImages/4.png\", gray)\n",
    "\n",
    "    def image_smoothening(self):\n",
    "        img = self.image\n",
    "        ret1, th1 = cv2.threshold(img, cv2.THRESH_BINARY, 255, cv2.THRESH_BINARY)\n",
    "        ret2, th2 = cv2.threshold(th1, 0, 255, cv2.THRESH_BINARY + cv2.THRESH_OTSU)\n",
    "        blur = cv2.GaussianBlur(th2, (5, 5), 0)\n",
    "        ret3, th3 = cv2.threshold(blur, 0, 255, cv2.THRESH_BINARY + cv2.THRESH_OTSU)\n",
    "        try:\n",
    "            os.remove(\"../StagesImages/smooth.png\")\n",
    "        except:\n",
    "            pass\n",
    "        cv2.imwrite(\"../StagesImages/smooth.png\", th3)\n",
    "\n",
    "    # def set_image_dpi(self):\n",
    "    #     im = Image.open(self.imagePath)\n",
    "    #     length_x, width_y = im.size\n",
    "    #     factor = min(1, float(1024.0 / length_x))\n",
    "    #     size = int(factor * length_x), int(factor * width_y)\n",
    "    #     im_resized = im.resize(size, Image.ANTIALIAS)\n",
    "    #     im_resized.save('StagesImages/Improved_dpi.png', dpi=(300, 300))\n",
    "        # try:\n",
    "        #     os.remove(\"StagesImages/5.png\")\n",
    "        # except:\n",
    "        #     pass\n",
    "        # cv2.imwrite(\"StagesImages/5.png\", im_resized)\n",
    "        # return filename"
   ]
  },
  {
   "cell_type": "code",
   "execution_count": 25,
   "metadata": {},
   "outputs": [],
   "source": [
    "preprocessor = ImagePreprocessor(\"/Users/inndata_flutter/Downloads/nrc_images/15.jpeg\")\n",
    "preprocessor.preprocess_image()\n",
    "preprocessor.image_smoothening()"
   ]
  },
  {
   "cell_type": "code",
   "execution_count": 26,
   "metadata": {},
   "outputs": [],
   "source": [
    "#Creating argument dictionary for the default arguments needed in the code. \n",
    "args = {\"image\":\"../StagesImages/smooth.png\", \"east\":\"../datasets/frozen_east_text_detection.pb\", \"min_confidence\":0.4, \"width\":320, \"height\":320}\n",
    "#1216 768"
   ]
  },
  {
   "cell_type": "markdown",
   "metadata": {},
   "source": [
    "### Loading EAST model"
   ]
  },
  {
   "cell_type": "code",
   "execution_count": 27,
   "metadata": {},
   "outputs": [],
   "source": [
    "# load the pre-trained EAST model for text detection \n",
    "net = cv2.dnn.readNet(args[\"east\"])\n",
    "\n",
    "# We would like to get two outputs from the EAST model. \n",
    "#1. Probabilty scores for the region whether that contains text or not. \n",
    "#2. Geometry of the text -- Coordinates of the bounding box detecting a text\n",
    "# The following two layer need to pulled from EAST model for achieving this. \n",
    "layerNames = [\n",
    "\t\"feature_fusion/Conv_7/Sigmoid\",\n",
    "\t\"feature_fusion/concat_3\"]"
   ]
  },
  {
   "cell_type": "code",
   "execution_count": 28,
   "metadata": {},
   "outputs": [],
   "source": [
    "#Reading the image using opencv\n",
    "image = cv2.imread(args['image'])\n",
    "\n",
    "#Saving an original image and shape\n",
    "orig = image.copy()\n",
    "(origH, origW) = image.shape[:2]\n",
    "\n",
    "# set the new height and width to default 320 by using args #dictionary.  \n",
    "(newW, newH) = (args[\"width\"], args[\"height\"])\n",
    "\n",
    "#Calculate the ratio between original and new image for both height and weight. \n",
    "#This ratio will be used to translate bounding box location on the original image. \n",
    "rW = origW / float(newW)\n",
    "rH = origH / float(newH)\n",
    "\n",
    "# resize the original image to new dimensions\n",
    "image = cv2.resize(image, (newW, newH))\n",
    "(H, W) = image.shape[:2]\n",
    "\n",
    "# construct a blob from the image to forward pass it to EAST model\n",
    "blob = cv2.dnn.blobFromImage(image, 1.0, (W, H),\n",
    "\t(123.68, 116.78, 103.94), swapRB=True, crop=False)"
   ]
  },
  {
   "cell_type": "code",
   "execution_count": 29,
   "metadata": {},
   "outputs": [],
   "source": [
    "#Forward pass the blob from the image to get the desired output layers\n",
    "net.setInput(blob)\n",
    "(scores, geometry) = net.forward(layerNames)"
   ]
  },
  {
   "cell_type": "code",
   "execution_count": 30,
   "metadata": {},
   "outputs": [],
   "source": [
    "## Returns a bounding box and probability score if it is more than minimum confidence\n",
    "def predictions(prob_score, geo):\n",
    "\t(numR, numC) = prob_score.shape[2:4]\n",
    "\tboxes = []\n",
    "\tconfidence_val = []\n",
    "\n",
    "\t# loop over rows\n",
    "\tfor y in range(0, numR):\n",
    "\t\tscoresData = prob_score[0, 0, y]\n",
    "\t\tx0 = geo[0, 0, y]\n",
    "\t\tx1 = geo[0, 1, y]\n",
    "\t\tx2 = geo[0, 2, y]\n",
    "\t\tx3 = geo[0, 3, y]\n",
    "\t\tanglesData = geo[0, 4, y]\n",
    "\n",
    "\t\t# loop over the number of columns\n",
    "\t\tfor i in range(0, numC):\n",
    "\t\t\tif scoresData[i] < args[\"min_confidence\"]:\n",
    "\t\t\t\tcontinue\n",
    "\n",
    "\t\t\t(offX, offY) = (i * 4.0, y * 4.0)\n",
    "\n",
    "\t\t\t# extracting the rotation angle for the prediction and computing the sine and cosine\n",
    "\t\t\tangle = anglesData[i]\n",
    "\t\t\tcos = np.cos(angle)\n",
    "\t\t\tsin = np.sin(angle)\n",
    "\n",
    "\t\t\t# using the geo volume to get the dimensions of the bounding box\n",
    "\t\t\th = x0[i] + x2[i]\n",
    "\t\t\tw = x1[i] + x3[i]\n",
    "\n",
    "\t\t\t# compute start and end for the text pred bbox\n",
    "\t\t\tendX = int(offX + (cos * x1[i]) + (sin * x2[i]))\n",
    "\t\t\tendY = int(offY - (sin * x1[i]) + (cos * x2[i]))\n",
    "\t\t\tstartX = int(endX - w)\n",
    "\t\t\tstartY = int(endY - h)\n",
    "\n",
    "\t\t\tboxes.append((startX, startY, endX, endY))\n",
    "\t\t\tconfidence_val.append(scoresData[i])\n",
    "\n",
    "\t# return bounding boxes and associated confidence_val\n",
    "\treturn (boxes, confidence_val)"
   ]
  },
  {
   "cell_type": "code",
   "execution_count": 31,
   "metadata": {},
   "outputs": [],
   "source": [
    "# Find predictions and  apply non-maxima suppression\n",
    "(boxes, confidence_val) = predictions(scores, geometry)\n",
    "boxes = non_max_suppression(np.array(boxes), probs=confidence_val)"
   ]
  },
  {
   "cell_type": "code",
   "execution_count": 32,
   "metadata": {},
   "outputs": [],
   "source": [
    "##Text Detection and Recognition \n",
    "\n",
    "# initialize the list of results\n",
    "results = []\n",
    "\n",
    "# loop over the bounding boxes to find the coordinate of bounding boxes\n",
    "for (startX, startY, endX, endY) in boxes:\n",
    "\t# scale the coordinates based on the respective ratios in order to reflect bounding box on the original image\n",
    "\tstartX = int(startX * rW)\n",
    "\tstartY = int(startY * rH)\n",
    "\tendX = int(endX * rW)\n",
    "\tendY = int(endY * rH)\n",
    "\n",
    "\t#extract the region of interest\n",
    "\tr = orig[startY:endY, startX:endX]\n",
    "\n",
    "\t#configuration setting to convert image to string.  \n",
    "\tconfiguration = (\"-l mya --oem 1 --psm 4\")\n",
    "    ##This will recognize the text from the image of bounding box\n",
    "\ttext = pytesseract.image_to_string(r, config=configuration)\n",
    "\n",
    "\t# append bbox coordinate and associated text to the list of results \n",
    "\tresults.append(((startX, startY, endX, endY), text))"
   ]
  },
  {
   "cell_type": "code",
   "execution_count": 33,
   "metadata": {},
   "outputs": [
    {
     "output_type": "stream",
     "name": "stdout",
     "text": "\n\n(၇.\n\nစစ ၈ ၀၀၀. {၃၉၈၈ (စံ\n\n\n\n\n\n(၉...\n\n\n\n7\n\n\n\n၈\n\n\n\n\n\nင.\n\n?1/ဘာသာ\n\n4\n\nကြ.\n\nစ္ဆ\n\n\n\n(စ ၈.)\n\n\n\nဇ.)\n\nခ.\n\n \n\nအာ\n\nနားသည့်ဘပတ်တသား\n\n\n\n\n\n\n\nမး ဂီ\n\n\n\nတာ\n\n\n\n"
    },
    {
     "output_type": "display_data",
     "data": {
      "text/plain": "<Figure size 432x288 with 1 Axes>",
      "image/svg+xml": "<?xml version=\"1.0\" encoding=\"utf-8\" standalone=\"no\"?>\n<!DOCTYPE svg PUBLIC \"-//W3C//DTD SVG 1.1//EN\"\n  \"http://www.w3.org/Graphics/SVG/1.1/DTD/svg11.dtd\">\n<!-- Created with matplotlib (https://matplotlib.org/) -->\n<svg height=\"251.386726pt\" version=\"1.1\" viewBox=\"0 0 375.2875 251.386726\" width=\"375.2875pt\" xmlns=\"http://www.w3.org/2000/svg\" xmlns:xlink=\"http://www.w3.org/1999/xlink\">\n <defs>\n  <style type=\"text/css\">\n*{stroke-linecap:butt;stroke-linejoin:round;}\n  </style>\n </defs>\n <g id=\"figure_1\">\n  <g id=\"patch_1\">\n   <path d=\"M 0 251.386726 \nL 375.2875 251.386726 \nL 375.2875 0 \nL 0 0 \nz\n\" style=\"fill:none;\"/>\n  </g>\n  <g id=\"axes_1\">\n   <g id=\"patch_2\">\n    <path d=\"M 33.2875 227.508601 \nL 368.0875 227.508601 \nL 368.0875 22.318125 \nL 33.2875 22.318125 \nz\n\" style=\"fill:#ffffff;\"/>\n   </g>\n   <g clip-path=\"url(#p2c9bfe4406)\">\n    <image height=\"206\" id=\"image8fb8019825\" transform=\"scale(1 -1)translate(0 -206)\" width=\"335\" x=\"33.2875\" xlink:href=\"data:image/png;base64,\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\" y=\"-21.508601\"/>\n   </g>\n   <g id=\"matplotlib.axis_1\">\n    <g id=\"xtick_1\">\n     <g id=\"line2d_1\">\n      <defs>\n       <path d=\"M 0 0 \nL 0 3.5 \n\" id=\"m9e0b76cafc\" style=\"stroke:#000000;stroke-width:0.8;\"/>\n      </defs>\n      <g>\n       <use style=\"stroke:#000000;stroke-width:0.8;\" x=\"33.435119\" xlink:href=\"#m9e0b76cafc\" y=\"227.508601\"/>\n      </g>\n     </g>\n     <g id=\"text_1\">\n      <!-- 0 -->\n      <defs>\n       <path d=\"M 31.78125 66.40625 \nQ 24.171875 66.40625 20.328125 58.90625 \nQ 16.5 51.421875 16.5 36.375 \nQ 16.5 21.390625 20.328125 13.890625 \nQ 24.171875 6.390625 31.78125 6.390625 \nQ 39.453125 6.390625 43.28125 13.890625 \nQ 47.125 21.390625 47.125 36.375 \nQ 47.125 51.421875 43.28125 58.90625 \nQ 39.453125 66.40625 31.78125 66.40625 \nz\nM 31.78125 74.21875 \nQ 44.046875 74.21875 50.515625 64.515625 \nQ 56.984375 54.828125 56.984375 36.375 \nQ 56.984375 17.96875 50.515625 8.265625 \nQ 44.046875 -1.421875 31.78125 -1.421875 \nQ 19.53125 -1.421875 13.0625 8.265625 \nQ 6.59375 17.96875 6.59375 36.375 \nQ 6.59375 54.828125 13.0625 64.515625 \nQ 19.53125 74.21875 31.78125 74.21875 \nz\n\" id=\"DejaVuSans-48\"/>\n      </defs>\n      <g transform=\"translate(30.253869 242.107039)scale(0.1 -0.1)\">\n       <use xlink:href=\"#DejaVuSans-48\"/>\n      </g>\n     </g>\n    </g>\n    <g id=\"xtick_2\">\n     <g id=\"line2d_2\">\n      <g>\n       <use style=\"stroke:#000000;stroke-width:0.8;\" x=\"92.482738\" xlink:href=\"#m9e0b76cafc\" y=\"227.508601\"/>\n      </g>\n     </g>\n     <g id=\"text_2\">\n      <!-- 200 -->\n      <defs>\n       <path d=\"M 19.1875 8.296875 \nL 53.609375 8.296875 \nL 53.609375 0 \nL 7.328125 0 \nL 7.328125 8.296875 \nQ 12.9375 14.109375 22.625 23.890625 \nQ 32.328125 33.6875 34.8125 36.53125 \nQ 39.546875 41.84375 41.421875 45.53125 \nQ 43.3125 49.21875 43.3125 52.78125 \nQ 43.3125 58.59375 39.234375 62.25 \nQ 35.15625 65.921875 28.609375 65.921875 \nQ 23.96875 65.921875 18.8125 64.3125 \nQ 13.671875 62.703125 7.8125 59.421875 \nL 7.8125 69.390625 \nQ 13.765625 71.78125 18.9375 73 \nQ 24.125 74.21875 28.421875 74.21875 \nQ 39.75 74.21875 46.484375 68.546875 \nQ 53.21875 62.890625 53.21875 53.421875 \nQ 53.21875 48.921875 51.53125 44.890625 \nQ 49.859375 40.875 45.40625 35.40625 \nQ 44.1875 33.984375 37.640625 27.21875 \nQ 31.109375 20.453125 19.1875 8.296875 \nz\n\" id=\"DejaVuSans-50\"/>\n      </defs>\n      <g transform=\"translate(82.938988 242.107039)scale(0.1 -0.1)\">\n       <use xlink:href=\"#DejaVuSans-50\"/>\n       <use x=\"63.623047\" xlink:href=\"#DejaVuSans-48\"/>\n       <use x=\"127.246094\" xlink:href=\"#DejaVuSans-48\"/>\n      </g>\n     </g>\n    </g>\n    <g id=\"xtick_3\">\n     <g id=\"line2d_3\">\n      <g>\n       <use style=\"stroke:#000000;stroke-width:0.8;\" x=\"151.530357\" xlink:href=\"#m9e0b76cafc\" y=\"227.508601\"/>\n      </g>\n     </g>\n     <g id=\"text_3\">\n      <!-- 400 -->\n      <defs>\n       <path d=\"M 37.796875 64.3125 \nL 12.890625 25.390625 \nL 37.796875 25.390625 \nz\nM 35.203125 72.90625 \nL 47.609375 72.90625 \nL 47.609375 25.390625 \nL 58.015625 25.390625 \nL 58.015625 17.1875 \nL 47.609375 17.1875 \nL 47.609375 0 \nL 37.796875 0 \nL 37.796875 17.1875 \nL 4.890625 17.1875 \nL 4.890625 26.703125 \nz\n\" id=\"DejaVuSans-52\"/>\n      </defs>\n      <g transform=\"translate(141.986607 242.107039)scale(0.1 -0.1)\">\n       <use xlink:href=\"#DejaVuSans-52\"/>\n       <use x=\"63.623047\" xlink:href=\"#DejaVuSans-48\"/>\n       <use x=\"127.246094\" xlink:href=\"#DejaVuSans-48\"/>\n      </g>\n     </g>\n    </g>\n    <g id=\"xtick_4\">\n     <g id=\"line2d_4\">\n      <g>\n       <use style=\"stroke:#000000;stroke-width:0.8;\" x=\"210.577976\" xlink:href=\"#m9e0b76cafc\" y=\"227.508601\"/>\n      </g>\n     </g>\n     <g id=\"text_4\">\n      <!-- 600 -->\n      <defs>\n       <path d=\"M 33.015625 40.375 \nQ 26.375 40.375 22.484375 35.828125 \nQ 18.609375 31.296875 18.609375 23.390625 \nQ 18.609375 15.53125 22.484375 10.953125 \nQ 26.375 6.390625 33.015625 6.390625 \nQ 39.65625 6.390625 43.53125 10.953125 \nQ 47.40625 15.53125 47.40625 23.390625 \nQ 47.40625 31.296875 43.53125 35.828125 \nQ 39.65625 40.375 33.015625 40.375 \nz\nM 52.59375 71.296875 \nL 52.59375 62.3125 \nQ 48.875 64.0625 45.09375 64.984375 \nQ 41.3125 65.921875 37.59375 65.921875 \nQ 27.828125 65.921875 22.671875 59.328125 \nQ 17.53125 52.734375 16.796875 39.40625 \nQ 19.671875 43.65625 24.015625 45.921875 \nQ 28.375 48.1875 33.59375 48.1875 \nQ 44.578125 48.1875 50.953125 41.515625 \nQ 57.328125 34.859375 57.328125 23.390625 \nQ 57.328125 12.15625 50.6875 5.359375 \nQ 44.046875 -1.421875 33.015625 -1.421875 \nQ 20.359375 -1.421875 13.671875 8.265625 \nQ 6.984375 17.96875 6.984375 36.375 \nQ 6.984375 53.65625 15.1875 63.9375 \nQ 23.390625 74.21875 37.203125 74.21875 \nQ 40.921875 74.21875 44.703125 73.484375 \nQ 48.484375 72.75 52.59375 71.296875 \nz\n\" id=\"DejaVuSans-54\"/>\n      </defs>\n      <g transform=\"translate(201.034226 242.107039)scale(0.1 -0.1)\">\n       <use xlink:href=\"#DejaVuSans-54\"/>\n       <use x=\"63.623047\" xlink:href=\"#DejaVuSans-48\"/>\n       <use x=\"127.246094\" xlink:href=\"#DejaVuSans-48\"/>\n      </g>\n     </g>\n    </g>\n    <g id=\"xtick_5\">\n     <g id=\"line2d_5\">\n      <g>\n       <use style=\"stroke:#000000;stroke-width:0.8;\" x=\"269.625595\" xlink:href=\"#m9e0b76cafc\" y=\"227.508601\"/>\n      </g>\n     </g>\n     <g id=\"text_5\">\n      <!-- 800 -->\n      <defs>\n       <path d=\"M 31.78125 34.625 \nQ 24.75 34.625 20.71875 30.859375 \nQ 16.703125 27.09375 16.703125 20.515625 \nQ 16.703125 13.921875 20.71875 10.15625 \nQ 24.75 6.390625 31.78125 6.390625 \nQ 38.8125 6.390625 42.859375 10.171875 \nQ 46.921875 13.96875 46.921875 20.515625 \nQ 46.921875 27.09375 42.890625 30.859375 \nQ 38.875 34.625 31.78125 34.625 \nz\nM 21.921875 38.8125 \nQ 15.578125 40.375 12.03125 44.71875 \nQ 8.5 49.078125 8.5 55.328125 \nQ 8.5 64.0625 14.71875 69.140625 \nQ 20.953125 74.21875 31.78125 74.21875 \nQ 42.671875 74.21875 48.875 69.140625 \nQ 55.078125 64.0625 55.078125 55.328125 \nQ 55.078125 49.078125 51.53125 44.71875 \nQ 48 40.375 41.703125 38.8125 \nQ 48.828125 37.15625 52.796875 32.3125 \nQ 56.78125 27.484375 56.78125 20.515625 \nQ 56.78125 9.90625 50.3125 4.234375 \nQ 43.84375 -1.421875 31.78125 -1.421875 \nQ 19.734375 -1.421875 13.25 4.234375 \nQ 6.78125 9.90625 6.78125 20.515625 \nQ 6.78125 27.484375 10.78125 32.3125 \nQ 14.796875 37.15625 21.921875 38.8125 \nz\nM 18.3125 54.390625 \nQ 18.3125 48.734375 21.84375 45.5625 \nQ 25.390625 42.390625 31.78125 42.390625 \nQ 38.140625 42.390625 41.71875 45.5625 \nQ 45.3125 48.734375 45.3125 54.390625 \nQ 45.3125 60.0625 41.71875 63.234375 \nQ 38.140625 66.40625 31.78125 66.40625 \nQ 25.390625 66.40625 21.84375 63.234375 \nQ 18.3125 60.0625 18.3125 54.390625 \nz\n\" id=\"DejaVuSans-56\"/>\n      </defs>\n      <g transform=\"translate(260.081845 242.107039)scale(0.1 -0.1)\">\n       <use xlink:href=\"#DejaVuSans-56\"/>\n       <use x=\"63.623047\" xlink:href=\"#DejaVuSans-48\"/>\n       <use x=\"127.246094\" xlink:href=\"#DejaVuSans-48\"/>\n      </g>\n     </g>\n    </g>\n    <g id=\"xtick_6\">\n     <g id=\"line2d_6\">\n      <g>\n       <use style=\"stroke:#000000;stroke-width:0.8;\" x=\"328.673214\" xlink:href=\"#m9e0b76cafc\" y=\"227.508601\"/>\n      </g>\n     </g>\n     <g id=\"text_6\">\n      <!-- 1000 -->\n      <defs>\n       <path d=\"M 12.40625 8.296875 \nL 28.515625 8.296875 \nL 28.515625 63.921875 \nL 10.984375 60.40625 \nL 10.984375 69.390625 \nL 28.421875 72.90625 \nL 38.28125 72.90625 \nL 38.28125 8.296875 \nL 54.390625 8.296875 \nL 54.390625 0 \nL 12.40625 0 \nz\n\" id=\"DejaVuSans-49\"/>\n      </defs>\n      <g transform=\"translate(315.948214 242.107039)scale(0.1 -0.1)\">\n       <use xlink:href=\"#DejaVuSans-49\"/>\n       <use x=\"63.623047\" xlink:href=\"#DejaVuSans-48\"/>\n       <use x=\"127.246094\" xlink:href=\"#DejaVuSans-48\"/>\n       <use x=\"190.869141\" xlink:href=\"#DejaVuSans-48\"/>\n      </g>\n     </g>\n    </g>\n   </g>\n   <g id=\"matplotlib.axis_2\">\n    <g id=\"ytick_1\">\n     <g id=\"line2d_7\">\n      <defs>\n       <path d=\"M 0 0 \nL -3.5 0 \n\" id=\"mc86897ed86\" style=\"stroke:#000000;stroke-width:0.8;\"/>\n      </defs>\n      <g>\n       <use style=\"stroke:#000000;stroke-width:0.8;\" x=\"33.2875\" xlink:href=\"#mc86897ed86\" y=\"22.465744\"/>\n      </g>\n     </g>\n     <g id=\"text_7\">\n      <!-- 0 -->\n      <g transform=\"translate(19.925 26.264963)scale(0.1 -0.1)\">\n       <use xlink:href=\"#DejaVuSans-48\"/>\n      </g>\n     </g>\n    </g>\n    <g id=\"ytick_2\">\n     <g id=\"line2d_8\">\n      <g>\n       <use style=\"stroke:#000000;stroke-width:0.8;\" x=\"33.2875\" xlink:href=\"#mc86897ed86\" y=\"51.989554\"/>\n      </g>\n     </g>\n     <g id=\"text_8\">\n      <!-- 100 -->\n      <g transform=\"translate(7.2 55.788772)scale(0.1 -0.1)\">\n       <use xlink:href=\"#DejaVuSans-49\"/>\n       <use x=\"63.623047\" xlink:href=\"#DejaVuSans-48\"/>\n       <use x=\"127.246094\" xlink:href=\"#DejaVuSans-48\"/>\n      </g>\n     </g>\n    </g>\n    <g id=\"ytick_3\">\n     <g id=\"line2d_9\">\n      <g>\n       <use style=\"stroke:#000000;stroke-width:0.8;\" x=\"33.2875\" xlink:href=\"#mc86897ed86\" y=\"81.513363\"/>\n      </g>\n     </g>\n     <g id=\"text_9\">\n      <!-- 200 -->\n      <g transform=\"translate(7.2 85.312582)scale(0.1 -0.1)\">\n       <use xlink:href=\"#DejaVuSans-50\"/>\n       <use x=\"63.623047\" xlink:href=\"#DejaVuSans-48\"/>\n       <use x=\"127.246094\" xlink:href=\"#DejaVuSans-48\"/>\n      </g>\n     </g>\n    </g>\n    <g id=\"ytick_4\">\n     <g id=\"line2d_10\">\n      <g>\n       <use style=\"stroke:#000000;stroke-width:0.8;\" x=\"33.2875\" xlink:href=\"#mc86897ed86\" y=\"111.037173\"/>\n      </g>\n     </g>\n     <g id=\"text_10\">\n      <!-- 300 -->\n      <defs>\n       <path d=\"M 40.578125 39.3125 \nQ 47.65625 37.796875 51.625 33 \nQ 55.609375 28.21875 55.609375 21.1875 \nQ 55.609375 10.40625 48.1875 4.484375 \nQ 40.765625 -1.421875 27.09375 -1.421875 \nQ 22.515625 -1.421875 17.65625 -0.515625 \nQ 12.796875 0.390625 7.625 2.203125 \nL 7.625 11.71875 \nQ 11.71875 9.328125 16.59375 8.109375 \nQ 21.484375 6.890625 26.8125 6.890625 \nQ 36.078125 6.890625 40.9375 10.546875 \nQ 45.796875 14.203125 45.796875 21.1875 \nQ 45.796875 27.640625 41.28125 31.265625 \nQ 36.765625 34.90625 28.71875 34.90625 \nL 20.21875 34.90625 \nL 20.21875 43.015625 \nL 29.109375 43.015625 \nQ 36.375 43.015625 40.234375 45.921875 \nQ 44.09375 48.828125 44.09375 54.296875 \nQ 44.09375 59.90625 40.109375 62.90625 \nQ 36.140625 65.921875 28.71875 65.921875 \nQ 24.65625 65.921875 20.015625 65.03125 \nQ 15.375 64.15625 9.8125 62.3125 \nL 9.8125 71.09375 \nQ 15.4375 72.65625 20.34375 73.4375 \nQ 25.25 74.21875 29.59375 74.21875 \nQ 40.828125 74.21875 47.359375 69.109375 \nQ 53.90625 64.015625 53.90625 55.328125 \nQ 53.90625 49.265625 50.4375 45.09375 \nQ 46.96875 40.921875 40.578125 39.3125 \nz\n\" id=\"DejaVuSans-51\"/>\n      </defs>\n      <g transform=\"translate(7.2 114.836391)scale(0.1 -0.1)\">\n       <use xlink:href=\"#DejaVuSans-51\"/>\n       <use x=\"63.623047\" xlink:href=\"#DejaVuSans-48\"/>\n       <use x=\"127.246094\" xlink:href=\"#DejaVuSans-48\"/>\n      </g>\n     </g>\n    </g>\n    <g id=\"ytick_5\">\n     <g id=\"line2d_11\">\n      <g>\n       <use style=\"stroke:#000000;stroke-width:0.8;\" x=\"33.2875\" xlink:href=\"#mc86897ed86\" y=\"140.560982\"/>\n      </g>\n     </g>\n     <g id=\"text_11\">\n      <!-- 400 -->\n      <g transform=\"translate(7.2 144.360201)scale(0.1 -0.1)\">\n       <use xlink:href=\"#DejaVuSans-52\"/>\n       <use x=\"63.623047\" xlink:href=\"#DejaVuSans-48\"/>\n       <use x=\"127.246094\" xlink:href=\"#DejaVuSans-48\"/>\n      </g>\n     </g>\n    </g>\n    <g id=\"ytick_6\">\n     <g id=\"line2d_12\">\n      <g>\n       <use style=\"stroke:#000000;stroke-width:0.8;\" x=\"33.2875\" xlink:href=\"#mc86897ed86\" y=\"170.084792\"/>\n      </g>\n     </g>\n     <g id=\"text_12\">\n      <!-- 500 -->\n      <defs>\n       <path d=\"M 10.796875 72.90625 \nL 49.515625 72.90625 \nL 49.515625 64.59375 \nL 19.828125 64.59375 \nL 19.828125 46.734375 \nQ 21.96875 47.46875 24.109375 47.828125 \nQ 26.265625 48.1875 28.421875 48.1875 \nQ 40.625 48.1875 47.75 41.5 \nQ 54.890625 34.8125 54.890625 23.390625 \nQ 54.890625 11.625 47.5625 5.09375 \nQ 40.234375 -1.421875 26.90625 -1.421875 \nQ 22.3125 -1.421875 17.546875 -0.640625 \nQ 12.796875 0.140625 7.71875 1.703125 \nL 7.71875 11.625 \nQ 12.109375 9.234375 16.796875 8.0625 \nQ 21.484375 6.890625 26.703125 6.890625 \nQ 35.15625 6.890625 40.078125 11.328125 \nQ 45.015625 15.765625 45.015625 23.390625 \nQ 45.015625 31 40.078125 35.4375 \nQ 35.15625 39.890625 26.703125 39.890625 \nQ 22.75 39.890625 18.8125 39.015625 \nQ 14.890625 38.140625 10.796875 36.28125 \nz\n\" id=\"DejaVuSans-53\"/>\n      </defs>\n      <g transform=\"translate(7.2 173.88401)scale(0.1 -0.1)\">\n       <use xlink:href=\"#DejaVuSans-53\"/>\n       <use x=\"63.623047\" xlink:href=\"#DejaVuSans-48\"/>\n       <use x=\"127.246094\" xlink:href=\"#DejaVuSans-48\"/>\n      </g>\n     </g>\n    </g>\n    <g id=\"ytick_7\">\n     <g id=\"line2d_13\">\n      <g>\n       <use style=\"stroke:#000000;stroke-width:0.8;\" x=\"33.2875\" xlink:href=\"#mc86897ed86\" y=\"199.608601\"/>\n      </g>\n     </g>\n     <g id=\"text_13\">\n      <!-- 600 -->\n      <g transform=\"translate(7.2 203.40782)scale(0.1 -0.1)\">\n       <use xlink:href=\"#DejaVuSans-54\"/>\n       <use x=\"63.623047\" xlink:href=\"#DejaVuSans-48\"/>\n       <use x=\"127.246094\" xlink:href=\"#DejaVuSans-48\"/>\n      </g>\n     </g>\n    </g>\n   </g>\n   <g id=\"patch_3\">\n    <path d=\"M 33.2875 227.508601 \nL 33.2875 22.318125 \n\" style=\"fill:none;stroke:#000000;stroke-linecap:square;stroke-linejoin:miter;stroke-width:0.8;\"/>\n   </g>\n   <g id=\"patch_4\">\n    <path d=\"M 368.0875 227.508601 \nL 368.0875 22.318125 \n\" style=\"fill:none;stroke:#000000;stroke-linecap:square;stroke-linejoin:miter;stroke-width:0.8;\"/>\n   </g>\n   <g id=\"patch_5\">\n    <path d=\"M 33.2875 227.508601 \nL 368.0875 227.508601 \n\" style=\"fill:none;stroke:#000000;stroke-linecap:square;stroke-linejoin:miter;stroke-width:0.8;\"/>\n   </g>\n   <g id=\"patch_6\">\n    <path d=\"M 33.2875 22.318125 \nL 368.0875 22.318125 \n\" style=\"fill:none;stroke:#000000;stroke-linecap:square;stroke-linejoin:miter;stroke-width:0.8;\"/>\n   </g>\n   <g id=\"text_14\">\n    <!-- Output -->\n    <defs>\n     <path d=\"M 39.40625 66.21875 \nQ 28.65625 66.21875 22.328125 58.203125 \nQ 16.015625 50.203125 16.015625 36.375 \nQ 16.015625 22.609375 22.328125 14.59375 \nQ 28.65625 6.59375 39.40625 6.59375 \nQ 50.140625 6.59375 56.421875 14.59375 \nQ 62.703125 22.609375 62.703125 36.375 \nQ 62.703125 50.203125 56.421875 58.203125 \nQ 50.140625 66.21875 39.40625 66.21875 \nz\nM 39.40625 74.21875 \nQ 54.734375 74.21875 63.90625 63.9375 \nQ 73.09375 53.65625 73.09375 36.375 \nQ 73.09375 19.140625 63.90625 8.859375 \nQ 54.734375 -1.421875 39.40625 -1.421875 \nQ 24.03125 -1.421875 14.8125 8.828125 \nQ 5.609375 19.09375 5.609375 36.375 \nQ 5.609375 53.65625 14.8125 63.9375 \nQ 24.03125 74.21875 39.40625 74.21875 \nz\n\" id=\"DejaVuSans-79\"/>\n     <path d=\"M 8.5 21.578125 \nL 8.5 54.6875 \nL 17.484375 54.6875 \nL 17.484375 21.921875 \nQ 17.484375 14.15625 20.5 10.265625 \nQ 23.53125 6.390625 29.59375 6.390625 \nQ 36.859375 6.390625 41.078125 11.03125 \nQ 45.3125 15.671875 45.3125 23.6875 \nL 45.3125 54.6875 \nL 54.296875 54.6875 \nL 54.296875 0 \nL 45.3125 0 \nL 45.3125 8.40625 \nQ 42.046875 3.421875 37.71875 1 \nQ 33.40625 -1.421875 27.6875 -1.421875 \nQ 18.265625 -1.421875 13.375 4.4375 \nQ 8.5 10.296875 8.5 21.578125 \nz\nM 31.109375 56 \nz\n\" id=\"DejaVuSans-117\"/>\n     <path d=\"M 18.3125 70.21875 \nL 18.3125 54.6875 \nL 36.8125 54.6875 \nL 36.8125 47.703125 \nL 18.3125 47.703125 \nL 18.3125 18.015625 \nQ 18.3125 11.328125 20.140625 9.421875 \nQ 21.96875 7.515625 27.59375 7.515625 \nL 36.8125 7.515625 \nL 36.8125 0 \nL 27.59375 0 \nQ 17.1875 0 13.234375 3.875 \nQ 9.28125 7.765625 9.28125 18.015625 \nL 9.28125 47.703125 \nL 2.6875 47.703125 \nL 2.6875 54.6875 \nL 9.28125 54.6875 \nL 9.28125 70.21875 \nz\n\" id=\"DejaVuSans-116\"/>\n     <path d=\"M 18.109375 8.203125 \nL 18.109375 -20.796875 \nL 9.078125 -20.796875 \nL 9.078125 54.6875 \nL 18.109375 54.6875 \nL 18.109375 46.390625 \nQ 20.953125 51.265625 25.265625 53.625 \nQ 29.59375 56 35.59375 56 \nQ 45.5625 56 51.78125 48.09375 \nQ 58.015625 40.1875 58.015625 27.296875 \nQ 58.015625 14.40625 51.78125 6.484375 \nQ 45.5625 -1.421875 35.59375 -1.421875 \nQ 29.59375 -1.421875 25.265625 0.953125 \nQ 20.953125 3.328125 18.109375 8.203125 \nz\nM 48.6875 27.296875 \nQ 48.6875 37.203125 44.609375 42.84375 \nQ 40.53125 48.484375 33.40625 48.484375 \nQ 26.265625 48.484375 22.1875 42.84375 \nQ 18.109375 37.203125 18.109375 27.296875 \nQ 18.109375 17.390625 22.1875 11.75 \nQ 26.265625 6.109375 33.40625 6.109375 \nQ 40.53125 6.109375 44.609375 11.75 \nQ 48.6875 17.390625 48.6875 27.296875 \nz\n\" id=\"DejaVuSans-112\"/>\n    </defs>\n    <g transform=\"translate(179.845937 16.318125)scale(0.12 -0.12)\">\n     <use xlink:href=\"#DejaVuSans-79\"/>\n     <use x=\"78.710938\" xlink:href=\"#DejaVuSans-117\"/>\n     <use x=\"142.089844\" xlink:href=\"#DejaVuSans-116\"/>\n     <use x=\"181.298828\" xlink:href=\"#DejaVuSans-112\"/>\n     <use x=\"244.775391\" xlink:href=\"#DejaVuSans-117\"/>\n     <use x=\"308.154297\" xlink:href=\"#DejaVuSans-116\"/>\n    </g>\n   </g>\n  </g>\n </g>\n <defs>\n  <clipPath id=\"p2c9bfe4406\">\n   <rect height=\"205.190476\" width=\"334.8\" x=\"33.2875\" y=\"22.318125\"/>\n  </clipPath>\n </defs>\n</svg>\n",
      "image/png": "[encoded data removed]"
     },
     "metadata": {
      "needs_background": "light"
     }
    }
   ],
   "source": [
    "#Display the image with bounding box and recognized text\n",
    "orig_image = orig.copy()\n",
    "\n",
    "# Moving over the results and display on the image\n",
    "for ((start_X, start_Y, end_X, end_Y), text) in results:\n",
    "\t# display the text detected by Tesseract\n",
    "\tprint(\"{}\\n\".format(text))\n",
    "\n",
    "\t# Displaying text\n",
    "\ttext = \"\".join([x if ord(x) < 128 else \"\" for x in text]).strip()\n",
    "\tcv2.rectangle(orig_image, (start_X, start_Y), (end_X, end_Y),\n",
    "\t\t(0, 0, 255), 2)\n",
    "\tcv2.putText(orig_image, text, (start_X, start_Y - 30),\n",
    "\t\tcv2.FONT_HERSHEY_COMPLEX, 0.7,(0,0, 255), 2)\n",
    "\n",
    "plt.imshow(orig_image)\n",
    "plt.title('Output')\n",
    "plt.show()"
   ]
  },
  {
   "cell_type": "code",
   "execution_count": null,
   "metadata": {},
   "outputs": [],
   "source": []
  }
 ]
}