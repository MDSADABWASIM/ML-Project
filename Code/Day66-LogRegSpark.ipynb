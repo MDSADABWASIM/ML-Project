{
 "nbformat": 4,
 "nbformat_minor": 2,
 "metadata": {
  "language_info": {
   "name": "python",
   "codemirror_mode": {
    "name": "ipython",
    "version": 3
   },
   "version": "3.7.6-final"
  },
  "orig_nbformat": 2,
  "file_extension": ".py",
  "mimetype": "text/x-python",
  "name": "python",
  "npconvert_exporter": "python",
  "pygments_lexer": "ipython3",
  "version": 3,
  "kernelspec": {
   "name": "python37464bitbaseconda0633cb87348e4e1f83d9c32f4c55bf11",
   "display_name": "Python 3.7.4 64-bit ('base': conda)"
  }
 },
 "cells": [
  {
   "cell_type": "markdown",
   "metadata": {},
   "source": [
    "## Logistic regression in Spark"
   ]
  },
  {
   "cell_type": "code",
   "execution_count": 7,
   "metadata": {},
   "outputs": [],
   "source": [
    "from pyspark.sql import SparkSession\n",
    "from pyspark.ml.classification import LogisticRegression"
   ]
  },
  {
   "cell_type": "code",
   "execution_count": 2,
   "metadata": {},
   "outputs": [],
   "source": [
    "spark = SparkSession.builder.appName('log_reg').getOrCreate()"
   ]
  },
  {
   "cell_type": "code",
   "execution_count": 3,
   "metadata": {},
   "outputs": [],
   "source": [
    "data = spark.read.format('libsvm').load('../datasets/sample_libsvm_data.txt')"
   ]
  },
  {
   "cell_type": "code",
   "execution_count": 5,
   "metadata": {},
   "outputs": [
    {
     "name": "stdout",
     "output_type": "stream",
     "text": "+-----+--------------------+\n|label|            features|\n+-----+--------------------+\n|  0.0|(692,[127,128,129...|\n|  1.0|(692,[158,159,160...|\n|  1.0|(692,[124,125,126...|\n|  1.0|(692,[152,153,154...|\n|  1.0|(692,[151,152,153...|\n|  0.0|(692,[129,130,131...|\n|  1.0|(692,[158,159,160...|\n|  1.0|(692,[99,100,101,...|\n|  0.0|(692,[154,155,156...|\n|  0.0|(692,[127,128,129...|\n|  1.0|(692,[154,155,156...|\n|  0.0|(692,[153,154,155...|\n|  0.0|(692,[151,152,153...|\n|  1.0|(692,[129,130,131...|\n|  0.0|(692,[154,155,156...|\n|  1.0|(692,[150,151,152...|\n|  0.0|(692,[124,125,126...|\n|  0.0|(692,[152,153,154...|\n|  1.0|(692,[97,98,99,12...|\n|  1.0|(692,[124,125,126...|\n+-----+--------------------+\nonly showing top 20 rows\n\n"
    }
   ],
   "source": [
    "data.show()"
   ]
  },
  {
   "cell_type": "code",
   "execution_count": 8,
   "metadata": {},
   "outputs": [],
   "source": [
    "log_reg = LogisticRegression()"
   ]
  },
  {
   "cell_type": "code",
   "execution_count": 9,
   "metadata": {},
   "outputs": [],
   "source": [
    "log_reg_model = log_reg.fit(data)"
   ]
  },
  {
   "cell_type": "code",
   "execution_count": 10,
   "metadata": {},
   "outputs": [],
   "source": [
    "log_reg_summary = log_reg_model.summary"
   ]
  },
  {
   "cell_type": "code",
   "execution_count": 13,
   "metadata": {},
   "outputs": [
    {
     "name": "stdout",
     "output_type": "stream",
     "text": "+-----+--------------------+--------------------+--------------------+----------+\n|label|            features|       rawPrediction|         probability|prediction|\n+-----+--------------------+--------------------+--------------------+----------+\n|  0.0|(692,[127,128,129...|[19.8534775947478...|[0.99999999761359...|       0.0|\n|  1.0|(692,[158,159,160...|[-20.377398194908...|[1.41321555111056...|       1.0|\n|  1.0|(692,[124,125,126...|[-27.401459284891...|[1.25804865126979...|       1.0|\n|  1.0|(692,[152,153,154...|[-18.862741612668...|[6.42710509170303...|       1.0|\n|  1.0|(692,[151,152,153...|[-20.483011833009...|[1.27157209200604...|       1.0|\n|  0.0|(692,[129,130,131...|[19.8506078990277...|[0.99999999760673...|       0.0|\n|  1.0|(692,[158,159,160...|[-20.337256674833...|[1.47109814695581...|       1.0|\n|  1.0|(692,[99,100,101,...|[-19.595579753418...|[3.08850168102631...|       1.0|\n|  0.0|(692,[154,155,156...|[19.2708803215613...|[0.99999999572670...|       0.0|\n|  0.0|(692,[127,128,129...|[23.6202328360422...|[0.99999999994480...|       0.0|\n|  1.0|(692,[154,155,156...|[-24.385235147661...|[2.56818872776510...|       1.0|\n|  0.0|(692,[153,154,155...|[26.3082522490179...|[0.99999999999624...|       0.0|\n|  0.0|(692,[151,152,153...|[25.8329060318703...|[0.99999999999396...|       0.0|\n|  1.0|(692,[129,130,131...|[-19.794609139086...|[2.53110684529575...|       1.0|\n|  0.0|(692,[154,155,156...|[21.0260440948067...|[0.99999999926123...|       0.0|\n|  1.0|(692,[150,151,152...|[-22.764979942873...|[1.29806018790941...|       1.0|\n|  0.0|(692,[124,125,126...|[21.5049307193954...|[0.99999999954235...|       0.0|\n|  0.0|(692,[152,153,154...|[31.9927184226421...|[0.99999999999998...|       0.0|\n|  1.0|(692,[97,98,99,12...|[-20.521067180414...|[1.22409115616505...|       1.0|\n|  1.0|(692,[124,125,126...|[-22.245377742755...|[2.18250475400332...|       1.0|\n+-----+--------------------+--------------------+--------------------+----------+\nonly showing top 20 rows\n\n"
    }
   ],
   "source": [
    "log_reg_summary.predictions.show()"
   ]
  },
  {
   "cell_type": "markdown",
   "metadata": {},
   "source": [
    "### Train Test Split"
   ]
  },
  {
   "cell_type": "code",
   "execution_count": 14,
   "metadata": {},
   "outputs": [],
   "source": [
    "train_data, test_data = data.randomSplit([0.7,0.3])"
   ]
  },
  {
   "cell_type": "code",
   "execution_count": 15,
   "metadata": {},
   "outputs": [],
   "source": [
    "new_log_reg = LogisticRegression()"
   ]
  },
  {
   "cell_type": "code",
   "execution_count": 16,
   "metadata": {},
   "outputs": [],
   "source": [
    "new_model = new_log_reg.fit(train_data)"
   ]
  },
  {
   "cell_type": "code",
   "execution_count": 17,
   "metadata": {},
   "outputs": [],
   "source": [
    "eval = new_model.evaluate(test_data)"
   ]
  },
  {
   "cell_type": "code",
   "execution_count": 18,
   "metadata": {},
   "outputs": [
    {
     "name": "stdout",
     "output_type": "stream",
     "text": "+-----+--------------------+--------------------+--------------------+----------+\n|label|            features|       rawPrediction|         probability|prediction|\n+-----+--------------------+--------------------+--------------------+----------+\n|  0.0|(692,[95,96,97,12...|[22.9375356726915...|[0.99999999989076...|       0.0|\n|  0.0|(692,[98,99,100,1...|[24.4403812895997...|[0.99999999997569...|       0.0|\n|  0.0|(692,[100,101,102...|[7.99781533557304...|[0.99966391668767...|       0.0|\n|  0.0|(692,[123,124,125...|[33.2563201360153...|[0.99999999999999...|       0.0|\n|  0.0|(692,[123,124,125...|[23.5750721038631...|[0.99999999994226...|       0.0|\n|  0.0|(692,[124,125,126...|[23.4978146094880...|[0.99999999993762...|       0.0|\n|  0.0|(692,[126,127,128...|[26.3856266395681...|[0.99999999999652...|       0.0|\n|  0.0|(692,[126,127,128...|[18.8291219158776...|[0.99999999335314...|       0.0|\n|  0.0|(692,[126,127,128...|[20.8505440240323...|[0.99999999911951...|       0.0|\n|  0.0|(692,[126,127,128...|[21.6813816426223...|[0.99999999961638...|       0.0|\n|  0.0|(692,[126,127,128...|[30.7820866793555...|[0.99999999999995...|       0.0|\n|  0.0|(692,[126,127,128...|[16.5171597110756...|[0.99999993290523...|       0.0|\n|  0.0|(692,[127,128,129...|[22.0503815134536...|[0.99999999973475...|       0.0|\n|  0.0|(692,[128,129,130...|[24.0826496508916...|[0.99999999996524...|       0.0|\n|  0.0|(692,[150,151,152...|[18.3280616674030...|[0.99999998902956...|       0.0|\n|  0.0|(692,[151,152,153...|[31.3645573591305...|[0.99999999999997...|       0.0|\n|  0.0|(692,[152,153,154...|[13.0858574383462...|[0.99999792564337...|       0.0|\n|  0.0|(692,[153,154,155...|[26.6361707257339...|[0.99999999999729...|       0.0|\n|  0.0|(692,[153,154,155...|[19.2785063579165...|[0.99999999575916...|       0.0|\n|  0.0|(692,[154,155,156...|[15.9109329206829...|[0.99999987698174...|       0.0|\n+-----+--------------------+--------------------+--------------------+----------+\nonly showing top 20 rows\n\n"
    }
   ],
   "source": [
    "eval.predictions.show()"
   ]
  },
  {
   "cell_type": "code",
   "execution_count": 19,
   "metadata": {},
   "outputs": [],
   "source": [
    "from pyspark.ml.evaluation import BinaryClassificationEvaluator"
   ]
  },
  {
   "cell_type": "code",
   "execution_count": 21,
   "metadata": {},
   "outputs": [],
   "source": [
    "evaluator = BinaryClassificationEvaluator()"
   ]
  },
  {
   "cell_type": "code",
   "execution_count": 22,
   "metadata": {},
   "outputs": [],
   "source": [
    "final_roc = evaluator.evaluate(eval.predictions)"
   ]
  },
  {
   "cell_type": "code",
   "execution_count": 23,
   "metadata": {},
   "outputs": [
    {
     "data": {
      "text/plain": "1.0"
     },
     "execution_count": 23,
     "metadata": {},
     "output_type": "execute_result"
    }
   ],
   "source": [
    "final_roc"
   ]
  },
  {
   "cell_type": "markdown",
   "metadata": {},
   "source": [
    "`ROC value is 1.0 which means it has perfect prediction rate, generally it does not happen with real world data.`"
   ]
  },
  {
   "cell_type": "code",
   "execution_count": null,
   "metadata": {},
   "outputs": [],
   "source": []
  }
 ]
}