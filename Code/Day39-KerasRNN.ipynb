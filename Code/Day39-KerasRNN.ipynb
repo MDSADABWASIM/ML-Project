{
 "cells": [
  {
   "cell_type": "markdown",
   "metadata": {},
   "source": [
    "# Recurring Neural Networks with Keras\n",
    "\n",
    "## Sentiment analysis from movie reviews\n",
    "\n",
    "It's actually a great example of using RNN's. The data set we're using consists of user-generated movie reviews and classification of whether the user liked the movie or not based on its associated rating.\n",
    "\n",
    "More info on the dataset is here:\n",
    "\n",
    "https://keras.io/datasets/#imdb-movie-reviews-sentiment-classification\n",
    "\n",
    "So we are going to use an RNN to do sentiment analysis on full-text movie reviews!\n",
    "\n",
    "Think about how amazing this is. We're going to train an artificial neural network how to \"read\" movie reviews and guess  whether the author liked the movie or not from them.\n",
    "\n",
    "Since understanding written language requires keeping track of all the words in a sentence, we need a recurrent neural network to keep a \"memory\" of the words that have come before as it \"reads\" sentences over time.\n",
    "\n",
    "In particular, we'll use LSTM (Long Short-Term Memory) cells because we don't really want to \"forget\" words too quickly - words early on in a sentence can affect the meaning of that sentence significantly.\n",
    "\n",
    "Let's start by importing the stuff we need:"
   ]
  },
  {
   "cell_type": "code",
   "execution_count": 2,
   "metadata": {},
   "outputs": [],
   "source": [
    "from tensorflow.keras.preprocessing import sequence\n",
    "from tensorflow.keras.models import Sequential\n",
    "from tensorflow.keras.layers import Dense, Embedding, LSTM\n",
    "from tensorflow.keras.datasets import imdb"
   ]
  },
  {
   "cell_type": "markdown",
   "metadata": {},
   "source": [
    "Now import our training and testing data. We specify that we only care about the 20,000 most popular words in the dataset in order to keep things somewhat managable. The dataset includes 5,000 training reviews and 25,000 testing reviews for some reason."
   ]
  },
  {
   "cell_type": "code",
   "execution_count": 2,
   "metadata": {},
   "outputs": [
    {
     "name": "stdout",
     "output_type": "stream",
     "text": "Loading data...\nDownloading data from https://storage.googleapis.com/tensorflow/tf-keras-datasets/imdb.npz\n17465344/17464789 [==============================] - 2s 0us/step\n"
    }
   ],
   "source": [
    "print('Loading data...')\n",
    "(x_train, y_train), (x_test, y_test) = imdb.load_data(num_words=20000)"
   ]
  },
  {
   "cell_type": "markdown",
   "metadata": {},
   "source": [
    "Let's get a feel for what this data looks like. Let's look at the first training feature, which should represent a written movie review:"
   ]
  },
  {
   "cell_type": "code",
   "execution_count": 5,
   "metadata": {},
   "outputs": [
    {
     "data": {
      "text/plain": "[1,\n 785,\n 189,\n 438,\n 47,\n 110,\n 142,\n 7,\n 6,\n 7475,\n 120,\n 4,\n 236,\n 378,\n 7,\n 153,\n 19,\n 87,\n 108,\n 141,\n 17,\n 1004,\n 5,\n 2,\n 883,\n 10789,\n 23,\n 8,\n 4,\n 136,\n 13772,\n 11631,\n 4,\n 7475,\n 43,\n 1076,\n 21,\n 1407,\n 419,\n 5,\n 5202,\n 120,\n 91,\n 682,\n 189,\n 2818,\n 5,\n 9,\n 1348,\n 31,\n 7,\n 4,\n 118,\n 785,\n 189,\n 108,\n 126,\n 93,\n 13772,\n 16,\n 540,\n 324,\n 23,\n 6,\n 364,\n 352,\n 21,\n 14,\n 9,\n 93,\n 56,\n 18,\n 11,\n 230,\n 53,\n 771,\n 74,\n 31,\n 34,\n 4,\n 2834,\n 7,\n 4,\n 22,\n 5,\n 14,\n 11,\n 471,\n 9,\n 17547,\n 34,\n 4,\n 321,\n 487,\n 5,\n 116,\n 15,\n 6584,\n 4,\n 22,\n 9,\n 6,\n 2286,\n 4,\n 114,\n 2679,\n 23,\n 107,\n 293,\n 1008,\n 1172,\n 5,\n 328,\n 1236,\n 4,\n 1375,\n 109,\n 9,\n 6,\n 132,\n 773,\n 14799,\n 1412,\n 8,\n 1172,\n 18,\n 7865,\n 29,\n 9,\n 276,\n 11,\n 6,\n 2768,\n 19,\n 289,\n 409,\n 4,\n 5341,\n 2140,\n 2,\n 648,\n 1430,\n 10136,\n 8914,\n 5,\n 27,\n 3000,\n 1432,\n 7130,\n 103,\n 6,\n 346,\n 137,\n 11,\n 4,\n 2768,\n 295,\n 36,\n 7740,\n 725,\n 6,\n 3208,\n 273,\n 11,\n 4,\n 1513,\n 15,\n 1367,\n 35,\n 154,\n 14040,\n 103,\n 19100,\n 173,\n 7,\n 12,\n 36,\n 515,\n 3547,\n 94,\n 2547,\n 1722,\n 5,\n 3547,\n 36,\n 203,\n 30,\n 502,\n 8,\n 361,\n 12,\n 8,\n 989,\n 143,\n 4,\n 1172,\n 3404,\n 10,\n 10,\n 328,\n 1236,\n 9,\n 6,\n 55,\n 221,\n 2989,\n 5,\n 146,\n 165,\n 179,\n 770,\n 15,\n 50,\n 713,\n 53,\n 108,\n 448,\n 23,\n 12,\n 17,\n 225,\n 38,\n 76,\n 4397,\n 18,\n 183,\n 8,\n 81,\n 19,\n 12,\n 45,\n 1257,\n 8,\n 135,\n 15,\n 13772,\n 166,\n 4,\n 118,\n 7,\n 45,\n 12831,\n 17,\n 466,\n 45,\n 2,\n 4,\n 22,\n 115,\n 165,\n 764,\n 6075,\n 5,\n 1030,\n 8,\n 2973,\n 73,\n 469,\n 167,\n 2127,\n 18281,\n 1568,\n 6,\n 87,\n 841,\n 18,\n 4,\n 22,\n 4,\n 192,\n 15,\n 91,\n 7,\n 12,\n 304,\n 273,\n 1004,\n 4,\n 1375,\n 1172,\n 2768,\n 12356,\n 15,\n 4,\n 22,\n 764,\n 55,\n 5773,\n 5,\n 14,\n 4233,\n 7444,\n 4,\n 1375,\n 326,\n 7,\n 4,\n 4760,\n 1786,\n 8,\n 361,\n 1236,\n 8,\n 989,\n 46,\n 7,\n 4,\n 2768,\n 45,\n 55,\n 776,\n 8,\n 79,\n 496,\n 98,\n 45,\n 400,\n 301,\n 15,\n 4,\n 1859,\n 9,\n 4,\n 155,\n 15,\n 66,\n 2,\n 84,\n 5,\n 14,\n 22,\n 1534,\n 15,\n 17,\n 4,\n 167,\n 12356,\n 15,\n 75,\n 70,\n 115,\n 66,\n 30,\n 252,\n 7,\n 618,\n 51,\n 9,\n 2161,\n 4,\n 3130,\n 5,\n 14,\n 1525,\n 8,\n 6584,\n 15,\n 13772,\n 165,\n 127,\n 1921,\n 8,\n 30,\n 179,\n 2532,\n 4,\n 22,\n 9,\n 906,\n 18,\n 6,\n 176,\n 7,\n 1007,\n 1005,\n 4,\n 1375,\n 114,\n 4,\n 105,\n 26,\n 32,\n 55,\n 221,\n 11,\n 68,\n 205,\n 96,\n 5,\n 4,\n 192,\n 15,\n 4,\n 274,\n 410,\n 220,\n 304,\n 23,\n 94,\n 205,\n 109,\n 9,\n 55,\n 73,\n 224,\n 259,\n 3786,\n 15,\n 4,\n 22,\n 528,\n 1645,\n 34,\n 4,\n 130,\n 528,\n 30,\n 685,\n 345,\n 17,\n 4,\n 277,\n 199,\n 166,\n 281,\n 5,\n 1030,\n 8,\n 30,\n 179,\n 4442,\n 444,\n 13772,\n 9,\n 6,\n 371,\n 87,\n 189,\n 22,\n 5,\n 31,\n 7,\n 4,\n 118,\n 7,\n 4,\n 2068,\n 545,\n 1178,\n 829]"
     },
     "execution_count": 5,
     "metadata": {},
     "output_type": "execute_result"
    }
   ],
   "source": [
    "x_train[10]"
   ]
  },
  {
   "cell_type": "markdown",
   "metadata": {},
   "source": [
    "That doesn't look like a movie review! But this data set has spared you a lot of trouble - they have already converted words to integer-based indices. The actual letters that make up a word don't really matter as far as our model is concerned, what matters are the words themselves - and our model needs numbers to work with, not letters.\n",
    "\n",
    "So just keep in mind that each number in the training features represent some specific word. It's a bummer that we can't just read the reviews in English as a gut check to see if sentiment analysis is really working, though.\n",
    "\n",
    "What do the labels look like?"
   ]
  },
  {
   "cell_type": "code",
   "execution_count": 6,
   "metadata": {},
   "outputs": [
    {
     "data": {
      "text/plain": "1"
     },
     "execution_count": 6,
     "metadata": {},
     "output_type": "execute_result"
    }
   ],
   "source": [
    "y_train[10]"
   ]
  },
  {
   "cell_type": "markdown",
   "metadata": {},
   "source": [
    "They are just 0 or 1, which indicates whether the reviewer said they liked the movie or not.\n",
    "\n",
    "So to recap, we have a bunch of movie reviews that have been converted into vectors of words represented by integers, and a binary sentiment classification to learn from.\n",
    "\n",
    "RNN's can blow up quickly, so again to keep things managable on our little PC let's limit the reviews to their first 80 words:"
   ]
  },
  {
   "cell_type": "code",
   "execution_count": 8,
   "metadata": {},
   "outputs": [],
   "source": [
    "x_train = sequence.pad_sequences(x_train, maxlen=80)\n",
    "x_test = sequence.pad_sequences(x_test, maxlen=80)"
   ]
  },
  {
   "cell_type": "markdown",
   "metadata": {},
   "source": [
    "Now let's set up our neural network model! Considering how complicated a LSTM recurrent neural network is under the hood, it's really amazing how easy this is to do with Keras.\n",
    "\n",
    "We will start with an Embedding layer - this is just a step that converts the input data into dense vectors of fixed size that's better suited for a neural network. You generally see this in conjunction with index-based text data like we have here. The 20,000 indicates the vocabulary size (remember we said we only wanted the top 20,000 words) and 128 is the output dimension of 128 units.\n",
    "\n",
    "Next we just have to set up a LSTM layer for the RNN itself. It's that easy. We specify 128 to match the output size of the Embedding layer, and dropout terms to avoid overfitting, which RNN's are particularly prone to.\n",
    "\n",
    "Finally we just need to boil it down to a single neuron with a sigmoid activation function to choose our binay sentiment classification of 0 or 1."
   ]
  },
  {
   "cell_type": "code",
   "execution_count": 9,
   "metadata": {},
   "outputs": [],
   "source": [
    "model = Sequential()\n",
    "model.add(Embedding(20000, 128))\n",
    "model.add(LSTM(128, dropout=0.2, recurrent_dropout=0.2))\n",
    "model.add(Dense(1, activation='sigmoid'))"
   ]
  },
  {
   "cell_type": "markdown",
   "metadata": {},
   "source": [
    "As this is a binary classification problem, we'll use the binary_crossentropy loss function. And the Adam optimizer is usually a good choice (feel free to try others.)"
   ]
  },
  {
   "cell_type": "code",
   "execution_count": 7,
   "metadata": {},
   "outputs": [],
   "source": [
    "model.compile(loss='binary_crossentropy',\n",
    "              optimizer='adam',\n",
    "              metrics=['accuracy'])"
   ]
  },
  {
   "cell_type": "markdown",
   "metadata": {},
   "source": [
    "Now we will actually train our model. RNN's, like CNN's, are very resource heavy. Keeping the batch size relatively small is the key to enabling this to run on your PC at all. In the real word of course, you'd be taking advantage of GPU's installed across many computers on a cluster to make this scale a lot better.\n",
    "\n",
    "## Warning\n",
    "\n",
    "This will take a very long time to run, even on a fast PC! Don't execute the next blocks unless you're prepared to tie up your computer for an hour or more."
   ]
  },
  {
   "cell_type": "markdown",
   "metadata": {},
   "source": [
    "Now let's kick off the training. Even with a GPU, this will take a long time!"
   ]
  },
  {
   "cell_type": "code",
   "execution_count": 9,
   "metadata": {},
   "outputs": [
    {
     "name": "stdout",
     "output_type": "stream",
     "text": [
      "Train on 25000 samples, validate on 25000 samples\n",
      "Epoch 1/15\n",
      "25000/25000 - 83s - loss: 0.4605 - accuracy: 0.7798 - val_loss: 0.3795 - val_accuracy: 0.8349\n",
      "Epoch 2/15\n",
      "25000/25000 - 80s - loss: 0.3014 - accuracy: 0.8780 - val_loss: 0.4075 - val_accuracy: 0.8237\n",
      "Epoch 3/15\n",
      "25000/25000 - 81s - loss: 0.2124 - accuracy: 0.9182 - val_loss: 0.4114 - val_accuracy: 0.8238\n",
      "Epoch 4/15\n",
      "25000/25000 - 81s - loss: 0.1520 - accuracy: 0.9445 - val_loss: 0.4581 - val_accuracy: 0.8271\n",
      "Epoch 5/15\n",
      "25000/25000 - 79s - loss: 0.1097 - accuracy: 0.9603 - val_loss: 0.5656 - val_accuracy: 0.8252\n",
      "Epoch 6/15\n",
      "25000/25000 - 78s - loss: 0.0772 - accuracy: 0.9724 - val_loss: 0.6683 - val_accuracy: 0.8210\n",
      "Epoch 7/15\n",
      "25000/25000 - 79s - loss: 0.0622 - accuracy: 0.9790 - val_loss: 0.7128 - val_accuracy: 0.8209\n",
      "Epoch 8/15\n",
      "25000/25000 - 81s - loss: 0.0366 - accuracy: 0.9877 - val_loss: 0.9249 - val_accuracy: 0.7985\n",
      "Epoch 9/15\n",
      "25000/25000 - 79s - loss: 0.0291 - accuracy: 0.9912 - val_loss: 0.9049 - val_accuracy: 0.8130\n",
      "Epoch 10/15\n",
      "25000/25000 - 85s - loss: 0.0255 - accuracy: 0.9914 - val_loss: 0.8627 - val_accuracy: 0.8105\n",
      "Epoch 11/15\n",
      "25000/25000 - 86s - loss: 0.0222 - accuracy: 0.9930 - val_loss: 0.9969 - val_accuracy: 0.8167\n",
      "Epoch 12/15\n",
      "25000/25000 - 82s - loss: 0.0178 - accuracy: 0.9940 - val_loss: 1.0226 - val_accuracy: 0.8143\n",
      "Epoch 13/15\n",
      "25000/25000 - 88s - loss: 0.0109 - accuracy: 0.9970 - val_loss: 1.1139 - val_accuracy: 0.8104\n",
      "Epoch 14/15\n",
      "25000/25000 - 89s - loss: 0.0094 - accuracy: 0.9971 - val_loss: 1.2101 - val_accuracy: 0.8125\n",
      "Epoch 15/15\n",
      "25000/25000 - 86s - loss: 0.0066 - accuracy: 0.9980 - val_loss: 1.1447 - val_accuracy: 0.8053\n"
     ]
    },
    {
     "data": {
      "text/plain": [
       "<tensorflow.python.keras.callbacks.History at 0x1abc5012128>"
      ]
     },
     "execution_count": 9,
     "metadata": {},
     "output_type": "execute_result"
    }
   ],
   "source": [
    "model.fit(x_train, y_train,\n",
    "          batch_size=32,\n",
    "          epochs=15,\n",
    "          verbose=2,\n",
    "          validation_data=(x_test, y_test))"
   ]
  },
  {
   "cell_type": "markdown",
   "metadata": {},
   "source": [
    "OK, let's evaluate our model's accuracy:"
   ]
  },
  {
   "cell_type": "code",
   "execution_count": 10,
   "metadata": {},
   "outputs": [
    {
     "name": "stdout",
     "output_type": "stream",
     "text": [
      "25000/1 - 14s - loss: 1.3717 - accuracy: 0.8053\n",
      "Test score: 1.144708181578219\n",
      "Test accuracy: 0.80528\n"
     ]
    }
   ],
   "source": [
    "score, acc = model.evaluate(x_test, y_test,\n",
    "                            batch_size=32,\n",
    "                            verbose=2)\n",
    "print('Test score:', score)\n",
    "print('Test accuracy:', acc)"
   ]
  },
  {
   "cell_type": "markdown",
   "metadata": {},
   "source": [
    "80% eh? Not too bad, considering we limited ourselves to just the first 80 words of each review.\n",
    "\n",
    "Note that the validation accuracy while we were training never really improved after the first epoch; we're likely just overfitting. This is a case where early stopping would have been beneficial.\n",
    "\n",
    "But again - stop and think about what we just made here! A neural network that can \"read\" reviews and deduce whether the author liked the movie or not based on that text. And it takes the context of each word and its position in the review into account - and setting up the model itself was just a few lines of code! It's pretty incredible what you can do with Keras."
   ]
  },
  {
   "cell_type": "code",
   "execution_count": null,
   "metadata": {},
   "outputs": [],
   "source": []
  }
 ],
 "metadata": {
  "kernelspec": {
   "display_name": "Python 3.7.5 64-bit",
   "language": "python",
   "name": "python37564bitedcdccb018dd4367a14589b436323787"
  },
  "language_info": {
   "codemirror_mode": {
    "name": "ipython",
    "version": 3
   },
   "file_extension": ".py",
   "mimetype": "text/x-python",
   "name": "python",
   "nbconvert_exporter": "python",
   "pygments_lexer": "ipython3",
   "version": "3.7.5-final"
  }
 },
 "nbformat": 4,
 "nbformat_minor": 2
}