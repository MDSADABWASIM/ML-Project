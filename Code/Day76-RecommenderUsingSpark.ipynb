{
 "cells": [
  {
   "cell_type": "markdown",
   "metadata": {},
   "source": [
    "# Recommender System in spark\n",
    "\n",
    "The classic recommender tutorial uses the [movielens data set](https://grouplens.org/datasets/movielens/). It is similar to using the iris or MNIST data set for other algorithms. Let's do a code along to get an idea of how this all works!\n",
    "\n",
    "\n",
    "Looking for more datasets? Check out: https://gist.github.com/entaroadun/1653794"
   ]
  },
  {
   "cell_type": "code",
   "execution_count": 5,
   "metadata": {},
   "outputs": [],
   "source": [
    "from pyspark.sql import SparkSession"
   ]
  },
  {
   "cell_type": "code",
   "execution_count": 6,
   "metadata": {},
   "outputs": [],
   "source": [
    "spark = SparkSession.builder.appName('rec').getOrCreate()"
   ]
  },
  {
   "cell_type": "markdown",
   "metadata": {},
   "source": [
    "With Collaborative filtering we make predictions (filtering) about the interests of a user by collecting preferences or taste information from many users (collaborating). The underlying assumption is that if a user A has the same opinion as a user B on an issue, A is more likely to have B's opinion on a different issue x than to have the opinion on x of a user chosen randomly.\n",
    "\n",
    "The image below (from Wikipedia) shows an example of collaborative filtering. At first, people rate different items (like videos, images, games). Then, the system makes predictions about a user's rating for an item not rated yet. The new predictions are built upon the existing ratings of other users with similar ratings with the active user. In the image, the system predicts that the user will not like the video.\n",
    "\n",
    "<img src=https://upload.wikimedia.org/wikipedia/commons/5/52/Collaborative_filtering.gif />"
   ]
  },
  {
   "cell_type": "markdown",
   "metadata": {},
   "source": [
    "Spark MLlib library for Machine Learning provides a Collaborative Filtering implementation by using Alternating Least Squares. The implementation in MLlib has these parameters:\n",
    "\n",
    "* numBlocks is the number of blocks used to parallelize computation (set to -1 to auto-configure).\n",
    "* rank is the number of latent factors in the model.\n",
    "* iterations is the number of iterations to run.\n",
    "* lambda specifies the regularization parameter in ALS.\n",
    "* implicitPrefs specifies whether to use the explicit feedback ALS variant or one adapted for implicit feedback data.\n",
    "* alpha is a parameter applicable to the implicit feedback variant of ALS that governs the baseline confidence in preference observations.\n",
    "\n",
    "Let's see this all in action!"
   ]
  },
  {
   "cell_type": "code",
   "execution_count": 7,
   "metadata": {},
   "outputs": [],
   "source": [
    "from pyspark.ml.evaluation import RegressionEvaluator\n",
    "from pyspark.ml.recommendation import ALS"
   ]
  },
  {
   "cell_type": "code",
   "execution_count": 21,
   "metadata": {},
   "outputs": [],
   "source": [
    "data = spark.read.csv('../datasets/u.data',inferSchema=True,header=True,sep='\\t').toDF('user_id', 'item_id', 'rating', 'timestamp')"
   ]
  },
  {
   "cell_type": "code",
   "execution_count": 22,
   "metadata": {},
   "outputs": [
    {
     "name": "stdout",
     "output_type": "stream",
     "text": "+-------+-------+------+---------+\n|user_id|item_id|rating|timestamp|\n+-------+-------+------+---------+\n|      0|    172|     5|881250949|\n|      0|    133|     1|881250949|\n|    196|    242|     3|881250949|\n|    186|    302|     3|891717742|\n|     22|    377|     1|878887116|\n|    244|     51|     2|880606923|\n|    166|    346|     1|886397596|\n|    298|    474|     4|884182806|\n|    115|    265|     2|881171488|\n|    253|    465|     5|891628467|\n|    305|    451|     3|886324817|\n|      6|     86|     3|883603013|\n|     62|    257|     2|879372434|\n|    286|   1014|     5|879781125|\n|    200|    222|     5|876042340|\n|    210|     40|     3|891035994|\n|    224|     29|     3|888104457|\n|    303|    785|     3|879485318|\n|    122|    387|     5|879270459|\n|    194|    274|     2|879539794|\n+-------+-------+------+---------+\nonly showing top 20 rows\n\n"
    }
   ],
   "source": [
    "data.show()"
   ]
  },
  {
   "cell_type": "code",
   "execution_count": 23,
   "metadata": {},
   "outputs": [
    {
     "name": "stdout",
     "output_type": "stream",
     "text": "+-------+------------------+------------------+------------------+-------------------+\n|summary|           user_id|           item_id|            rating|          timestamp|\n+-------+------------------+------------------+------------------+-------------------+\n|  count|            100002|            100002|            100002|             100002|\n|   mean| 462.4755004899902| 425.5246695066099|  3.52984940301194|8.835288059314814E8|\n| stddev|266.61977624270713|330.79731330193573|1.1257003701282393|  5343812.460921578|\n|    min|                 0|                 1|                 1|          874724710|\n|    max|               943|              1682|                 5|          893286638|\n+-------+------------------+------------------+------------------+-------------------+\n\n"
    }
   ],
   "source": [
    "data.describe().show()"
   ]
  },
  {
   "cell_type": "markdown",
   "metadata": {},
   "source": [
    "#### Dropping the timestamp column"
   ]
  },
  {
   "cell_type": "code",
   "execution_count": 24,
   "metadata": {},
   "outputs": [
    {
     "name": "stdout",
     "output_type": "stream",
     "text": "root\n |-- user_id: integer (nullable = true)\n |-- item_id: integer (nullable = true)\n |-- rating: integer (nullable = true)\n\n"
    }
   ],
   "source": [
    "data = data.drop('timestamp')\n",
    "data.printSchema()"
   ]
  },
  {
   "cell_type": "markdown",
   "metadata": {},
   "source": [
    "We can do a split to evaluate how well our model performed, but keep in mind that it is very hard to know conclusively how well a recommender system is truly working for some topics. Especially if subjectivity is involved, for example not everyone that loves star wars is going to love star trek, even though a recommendation system may suggest otherwise."
   ]
  },
  {
   "cell_type": "code",
   "execution_count": 25,
   "metadata": {},
   "outputs": [],
   "source": [
    "# Smaller dataset so we will use 0.8 / 0.2\n",
    "(training, test) = data.randomSplit([0.8, 0.2])"
   ]
  },
  {
   "cell_type": "code",
   "execution_count": 26,
   "metadata": {},
   "outputs": [],
   "source": [
    "# Build the recommendation model using ALS on the training data\n",
    "als = ALS(maxIter=5, regParam=0.01, userCol=\"user_id\", itemCol=\"item_id\", ratingCol=\"rating\")\n",
    "model = als.fit(training)"
   ]
  },
  {
   "cell_type": "markdown",
   "metadata": {},
   "source": [
    "Now let's see hwo the model performed!"
   ]
  },
  {
   "cell_type": "code",
   "execution_count": 27,
   "metadata": {},
   "outputs": [],
   "source": [
    "# Evaluate the model by computing the RMSE on the test data\n",
    "predictions = model.transform(test)"
   ]
  },
  {
   "cell_type": "code",
   "execution_count": 28,
   "metadata": {},
   "outputs": [
    {
     "name": "stdout",
     "output_type": "stream",
     "text": "+-------+-------+------+----------+\n|user_id|item_id|rating|prediction|\n+-------+-------+------+----------+\n|     27|    148|     3| 2.0473723|\n|    606|    148|     3|  3.767642|\n|    663|    148|     4| 3.1720264|\n|    435|    148|     3| 3.4015334|\n|    164|    148|     5| 4.9801483|\n|    919|    148|     3| 3.1183827|\n|    923|    148|     4| 3.3922474|\n|    891|    148|     5| 4.3217783|\n|    423|    148|     3| 3.2256665|\n|    870|    148|     2| 2.5004747|\n|    757|    148|     4| 2.8417468|\n|     84|    148|     4| 3.4418552|\n|    532|    148|     5|  3.970731|\n|    793|    148|     4|  3.473913|\n|     21|    148|     1| 2.0754457|\n|     90|    148|     2| 3.2718034|\n|    805|    148|     2| 2.9288888|\n|    158|    148|     4|   3.15201|\n|    276|    148|     3| 2.6996841|\n|    186|    148|     4| 3.2206693|\n+-------+-------+------+----------+\nonly showing top 20 rows\n\n"
    }
   ],
   "source": [
    "predictions.show()"
   ]
  },
  {
   "cell_type": "code",
   "execution_count": 39,
   "metadata": {},
   "outputs": [
    {
     "name": "stdout",
     "output_type": "stream",
     "text": "+-------+------------------+-----------------+------------------+----------+\n|summary|           user_id|          item_id|            rating|prediction|\n+-------+------------------+-----------------+------------------+----------+\n|  count|             19940|            19940|             19940|     19940|\n|   mean|463.53625877632896|423.9002006018054|3.5353059177532598|       NaN|\n| stddev| 268.4097373231257|330.5524957930414|1.1247513867629875|       NaN|\n|    min|                 1|                1|                 1| -2.281641|\n|    max|               943|             1681|                 5|       NaN|\n+-------+------------------+-----------------+------------------+----------+\n\n"
    }
   ],
   "source": [
    "predictions.describe().show()"
   ]
  },
  {
   "cell_type": "code",
   "execution_count": 37,
   "metadata": {},
   "outputs": [
    {
     "name": "stdout",
     "output_type": "stream",
     "text": "Root-mean-square error = 1.0656292589794112\n"
    }
   ],
   "source": [
    "evaluator = RegressionEvaluator(metricName=\"rmse\", labelCol=\"rating\",predictionCol=\"prediction\")\n",
    "#Dropping the null prediction values\n",
    "rmse = evaluator.evaluate(predictions.na.drop())\n",
    "print(\"Root-mean-square error = \" + str(rmse))"
   ]
  },
  {
   "cell_type": "markdown",
   "metadata": {},
   "source": [
    "The RMSE described our error in terms of the stars rating column."
   ]
  },
  {
   "cell_type": "markdown",
   "metadata": {},
   "source": [
    "So now that we have the model, how would you actually supply a recommendation to a user?\n",
    "\n",
    "The same way we did with the test data! For example:"
   ]
  },
  {
   "cell_type": "code",
   "execution_count": 41,
   "metadata": {},
   "outputs": [],
   "source": [
    "single_user = test.filter(test['user_id']==11).select(['item_id','user_id'])"
   ]
  },
  {
   "cell_type": "code",
   "execution_count": 42,
   "metadata": {},
   "outputs": [
    {
     "name": "stdout",
     "output_type": "stream",
     "text": "+-------+-------+\n|item_id|user_id|\n+-------+-------+\n|      9|     11|\n|     15|     11|\n|     24|     11|\n|     28|     11|\n|     51|     11|\n|     90|     11|\n|     97|     11|\n|     98|     11|\n|    120|     11|\n|    135|     11|\n|    175|     11|\n|    185|     11|\n|    204|     11|\n|    211|     11|\n|    228|     11|\n|    260|     11|\n|    277|     11|\n|    286|     11|\n|    300|     11|\n|    312|     11|\n+-------+-------+\nonly showing top 20 rows\n\n"
    }
   ],
   "source": [
    "# User had 10 ratings in the test data set \n",
    "# Realistically this should be some sort of hold out set!\n",
    "single_user.show()"
   ]
  },
  {
   "cell_type": "code",
   "execution_count": 43,
   "metadata": {},
   "outputs": [],
   "source": [
    "reccomendations = model.transform(single_user)"
   ]
  },
  {
   "cell_type": "code",
   "execution_count": 44,
   "metadata": {},
   "outputs": [
    {
     "name": "stdout",
     "output_type": "stream",
     "text": "+-------+-------+----------+\n|item_id|user_id|prediction|\n+-------+-------+----------+\n|    750|     11| 4.7343364|\n|    286|     11|  4.181887|\n|     15|     11|    4.0924|\n|     98|     11|  4.044594|\n|    744|     11| 4.0417757|\n|      9|     11| 3.9970865|\n|    451|     11| 3.9081779|\n|    742|     11| 3.8920014|\n|     51|     11| 3.8534713|\n|     28|     11| 3.8355749|\n|    300|     11| 3.8213162|\n|     97|     11|  3.694994|\n|    549|     11|  3.653762|\n|    185|     11| 3.6291761|\n|    204|     11| 3.6225276|\n|    732|     11| 3.5971987|\n|    211|     11|  3.589419|\n|    393|     11|  3.491588|\n|    405|     11|  3.437232|\n|    524|     11| 3.3460574|\n+-------+-------+----------+\nonly showing top 20 rows\n\n"
    }
   ],
   "source": [
    "reccomendations.orderBy('prediction',ascending=False).show()"
   ]
  },
  {
   "cell_type": "markdown",
   "metadata": {},
   "source": [
    "`That's it for this recommender system`"
   ]
  },
  {
   "cell_type": "code",
   "execution_count": null,
   "metadata": {},
   "outputs": [],
   "source": []
  }
 ],
 "metadata": {
  "anaconda-cloud": {},
  "kernelspec": {
   "display_name": "Python 3.7.5 64-bit",
   "language": "python",
   "name": "python37564bitedcdccb018dd4367a14589b436323787"
  },
  "language_info": {
   "codemirror_mode": {
    "name": "ipython",
    "version": 3
   },
   "file_extension": ".py",
   "mimetype": "text/x-python",
   "name": "python",
   "nbconvert_exporter": "python",
   "pygments_lexer": "ipython3",
   "version": "3.7.6-final"
  }
 },
 "nbformat": 4,
 "nbformat_minor": 0
}